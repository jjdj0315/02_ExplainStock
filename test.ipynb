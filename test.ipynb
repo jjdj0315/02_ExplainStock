{
 "cells": [
  {
   "cell_type": "code",
   "execution_count": 2,
   "metadata": {},
   "outputs": [],
   "source": [
    "import getpass\n",
    "import os\n",
    "\n",
    "if not os.environ.get(\"OPENAI_API_KEY\"):\n",
    "  os.environ[\"OPENAI_API_KEY\"] = getpass.getpass(\"Enter API key for OpenAI: \")\n",
    "\n",
    "from langchain.chat_models import init_chat_model\n",
    "\n",
    "model = init_chat_model(\"gpt-4o-mini\", model_provider=\"openai\")"
   ]
  },
  {
   "cell_type": "code",
   "execution_count": 3,
   "metadata": {},
   "outputs": [
    {
     "data": {
      "text/plain": [
       "AIMessage(content='Hello! How can I assist you today?', additional_kwargs={'refusal': None}, response_metadata={'token_usage': {'completion_tokens': 10, 'prompt_tokens': 11, 'total_tokens': 21, 'completion_tokens_details': {'accepted_prediction_tokens': 0, 'audio_tokens': 0, 'reasoning_tokens': 0, 'rejected_prediction_tokens': 0}, 'prompt_tokens_details': {'audio_tokens': 0, 'cached_tokens': 0}}, 'model_name': 'gpt-4o-mini-2024-07-18', 'system_fingerprint': 'fp_0392822090', 'id': 'chatcmpl-BTV0BJXUDsdNV0EOI7y9jALjuqBXJ', 'service_tier': 'default', 'finish_reason': 'stop', 'logprobs': None}, id='run--6e5714b0-8a8a-49bd-813b-d5b6b6dba38a-0', usage_metadata={'input_tokens': 11, 'output_tokens': 10, 'total_tokens': 21, 'input_token_details': {'audio': 0, 'cache_read': 0}, 'output_token_details': {'audio': 0, 'reasoning': 0}})"
      ]
     },
     "execution_count": 3,
     "metadata": {},
     "output_type": "execute_result"
    }
   ],
   "source": [
    "model.invoke(\"Hello, world!\")"
   ]
  },
  {
   "cell_type": "code",
   "execution_count": null,
   "metadata": {},
   "outputs": [],
   "source": [
    "llm = ChatOpenAI(model=\"gpt-4o\", api_key=os.getenv(\"OPENAI_API_KEY\"), temperature=0)"
   ]
  },
  {
   "cell_type": "code",
   "execution_count": null,
   "metadata": {},
   "outputs": [
    {
     "data": {
      "text/plain": [
       "AIMessage(content='안녕하세요! 어떻게 도와드릴까요?', additional_kwargs={'refusal': None}, response_metadata={'token_usage': {'completion_tokens': 11, 'prompt_tokens': 10, 'total_tokens': 21, 'completion_tokens_details': {'accepted_prediction_tokens': 0, 'audio_tokens': 0, 'reasoning_tokens': 0, 'rejected_prediction_tokens': 0}, 'prompt_tokens_details': {'audio_tokens': 0, 'cached_tokens': 0}}, 'model_name': 'gpt-4o-2024-08-06', 'system_fingerprint': 'fp_f5bdcc3276', 'id': 'chatcmpl-BTV1H1QHA29XubPiqHFGhkDau9EVG', 'service_tier': 'default', 'finish_reason': 'stop', 'logprobs': None}, id='run--b583a084-8fbe-4ec2-8b29-d48268e0c494-0', usage_metadata={'input_tokens': 10, 'output_tokens': 11, 'total_tokens': 21, 'input_token_details': {'audio': 0, 'cache_read': 0}, 'output_token_details': {'audio': 0, 'reasoning': 0}})"
      ]
     },
     "execution_count": 5,
     "metadata": {},
     "output_type": "execute_result"
    }
   ],
   "source": [
    "llm.invoke(\"안녕녕\")bbb"
   ]
  },
  {
   "cell_type": "code",
   "execution_count": 1,
   "metadata": {},
   "outputs": [],
   "source": [
    "import meilisearch\n",
    "import pandas as pd\n",
    "\n",
    "client = meilisearch.Client(\"http://localhost:7700\", \"aSampleMasterKey\")\n",
    "\n",
    "def stock_search(query):\n",
    "    return client.index(\"stocks\")\n"
   ]
  },
  {
   "cell_type": "code",
   "execution_count": 5,
   "metadata": {},
   "outputs": [],
   "source": [
    "a = stock_search(\"NVDA\")"
   ]
  },
  {
   "cell_type": "code",
   "execution_count": 6,
   "metadata": {},
   "outputs": [
    {
     "data": {
      "text/plain": [
       "<meilisearch.index.Index at 0x2188bffdad0>"
      ]
     },
     "execution_count": 6,
     "metadata": {},
     "output_type": "execute_result"
    }
   ],
   "source": [
    "a"
   ]
  },
  {
   "cell_type": "code",
   "execution_count": 2,
   "metadata": {},
   "outputs": [],
   "source": [
    "import meilisearch\n",
    "import pandas as pd\n",
    "\n",
    "client = meilisearch.Client(\"http://localhost:7700\", \"aSampleMasterKey\")\n",
    "\n",
    "\n",
    "def bootstrap_stocks():\n",
    "    \"\"\"\n",
    "    https://www.nasdaq.com/market-activity/stocks/screener\n",
    "    \"\"\"\n",
    "    # json.dumps(body)[1919-30:1919+30]\n",
    "    stocks = pd.read_csv(\"data/nasdaq_screener_1746365549494.csv\", na_filter=False)\n",
    "    # df[df['Symbol'].str.contains(r'[^\\w]', regex=True)]\n",
    "    stocks[\"id\"] = stocks[\"Symbol\"].str.strip().replace(r\"[/^]\", \"_\", regex=True)\n",
    "    client.index(\"stocks\").add_documents(\n",
    "        stocks.to_dict(orient=\"records\"), primary_key=\"id\"\n",
    "    )\n",
    "bootstrap_stocks()"
   ]
  },
  {
   "cell_type": "code",
   "execution_count": 6,
   "metadata": {},
   "outputs": [],
   "source": [
    "def stock_search(query):\n",
    "    return client.index(\"stocks\").search(query)"
   ]
  },
  {
   "cell_type": "code",
   "execution_count": 7,
   "metadata": {},
   "outputs": [
    {
     "data": {
      "text/plain": [
       "{'hits': [{'id': 'NVDA',\n",
       "   'Symbol': 'NVDA',\n",
       "   'Name': 'NVIDIA Corporation Common Stock',\n",
       "   'Last Sale': '$111.61',\n",
       "   'Net Change': 2.69,\n",
       "   '% Change': '2.47%',\n",
       "   'Market Cap': '2723284000000.00',\n",
       "   'Country': 'United States',\n",
       "   'IPO Year': '1999',\n",
       "   'Volume': 236121507,\n",
       "   'Sector': 'Technology',\n",
       "   'Industry': 'Semiconductors'}],\n",
       " 'query': 'NVDA',\n",
       " 'processingTimeMs': 12,\n",
       " 'limit': 20,\n",
       " 'offset': 0,\n",
       " 'estimatedTotalHits': 1}"
      ]
     },
     "execution_count": 7,
     "metadata": {},
     "output_type": "execute_result"
    }
   ],
   "source": [
    "stock_search(\"NVDA\")"
   ]
  },
  {
   "cell_type": "code",
   "execution_count": 11,
   "metadata": {},
   "outputs": [],
   "source": [
    "def stock_search(query):\n",
    "    return client.index(\"stocks\")"
   ]
  },
  {
   "cell_type": "code",
   "execution_count": 9,
   "metadata": {},
   "outputs": [
    {
     "data": {
      "text/plain": [
       "{'hits': [{'id': 'NVDA',\n",
       "   'Symbol': 'NVDA',\n",
       "   'Name': 'NVIDIA Corporation Common Stock',\n",
       "   'Last Sale': '$111.61',\n",
       "   'Net Change': 2.69,\n",
       "   '% Change': '2.47%',\n",
       "   'Market Cap': '2723284000000.00',\n",
       "   'Country': 'United States',\n",
       "   'IPO Year': '1999',\n",
       "   'Volume': 236121507,\n",
       "   'Sector': 'Technology',\n",
       "   'Industry': 'Semiconductors'}],\n",
       " 'query': 'NVDA',\n",
       " 'processingTimeMs': 0,\n",
       " 'limit': 20,\n",
       " 'offset': 0,\n",
       " 'estimatedTotalHits': 1}"
      ]
     },
     "execution_count": 9,
     "metadata": {},
     "output_type": "execute_result"
    }
   ],
   "source": [
    "client.index(\"stocks\").search(\"NVDA\")"
   ]
  },
  {
   "cell_type": "code",
   "execution_count": 12,
   "metadata": {},
   "outputs": [
    {
     "ename": "TypeError",
     "evalue": "'Index' object is not subscriptable",
     "output_type": "error",
     "traceback": [
      "\u001b[31m---------------------------------------------------------------------------\u001b[39m",
      "\u001b[31mTypeError\u001b[39m                                 Traceback (most recent call last)",
      "\u001b[36mCell\u001b[39m\u001b[36m \u001b[39m\u001b[32mIn[12]\u001b[39m\u001b[32m, line 1\u001b[39m\n\u001b[32m----> \u001b[39m\u001b[32m1\u001b[39m \u001b[43mstock_search\u001b[49m\u001b[43m(\u001b[49m\u001b[33;43m\"\u001b[39;49m\u001b[33;43mNVDA\u001b[39;49m\u001b[33;43m\"\u001b[39;49m\u001b[43m)\u001b[49m\u001b[43m[\u001b[49m\u001b[33;43m\"\u001b[39;49m\u001b[33;43mhits\u001b[39;49m\u001b[33;43m\"\u001b[39;49m\u001b[43m]\u001b[49m\n",
      "\u001b[31mTypeError\u001b[39m: 'Index' object is not subscriptable"
     ]
    }
   ],
   "source": [
    "stock_search(\"NVDA\")[\"hits\"]"
   ]
  },
  {
   "cell_type": "code",
   "execution_count": 13,
   "metadata": {},
   "outputs": [],
   "source": [
    "class SearchResult:\n",
    "    def __init__(self, item):\n",
    "        self.item = item\n",
    "\n",
    "    @property\n",
    "    def symbol(self):\n",
    "        return self.item[\"Symbol\"]\n",
    "\n",
    "    @property\n",
    "    def name(self):\n",
    "        return self.item[\"Name\"]\n",
    "\n",
    "    def __str__(self):\n",
    "        return f\"{self.symbol} : {self.name}\"\n"
   ]
  },
  {
   "cell_type": "code",
   "execution_count": 15,
   "metadata": {},
   "outputs": [],
   "source": [
    "result = SearchResult({\"Symbol\": \"NVDA\", \"Name\": \"Nvidia Corporation\"})"
   ]
  },
  {
   "cell_type": "code",
   "execution_count": 18,
   "metadata": {},
   "outputs": [
    {
     "data": {
      "text/plain": [
       "'NVDA'"
      ]
     },
     "execution_count": 18,
     "metadata": {},
     "output_type": "execute_result"
    }
   ],
   "source": [
    "result.symbol"
   ]
  },
  {
   "cell_type": "code",
   "execution_count": 19,
   "metadata": {},
   "outputs": [
    {
     "data": {
      "text/plain": [
       "'Nvidia Corporation'"
      ]
     },
     "execution_count": 19,
     "metadata": {},
     "output_type": "execute_result"
    }
   ],
   "source": [
    "result.name"
   ]
  },
  {
   "cell_type": "code",
   "execution_count": null,
   "metadata": {},
   "outputs": [
    {
     "name": "stdout",
     "output_type": "stream",
     "text": [
      "NVDA : Nvidia Corporation\n"
     ]
    }
   ],
   "source": [
    "print(result)"
   ]
  },
  {
   "cell_type": "code",
   "execution_count": null,
   "metadata": {},
   "outputs": [],
   "source": []
  }
 ],
 "metadata": {
  "kernelspec": {
   "display_name": "venv",
   "language": "python",
   "name": "python3"
  },
  "language_info": {
   "codemirror_mode": {
    "name": "ipython",
    "version": 3
   },
   "file_extension": ".py",
   "mimetype": "text/x-python",
   "name": "python",
   "nbconvert_exporter": "python",
   "pygments_lexer": "ipython3",
   "version": "3.11.9"
  }
 },
 "nbformat": 4,
 "nbformat_minor": 2
}
